{
 "cells": [
  {
   "cell_type": "code",
   "execution_count": 28,
   "metadata": {},
   "outputs": [
    {
     "name": "stdout",
     "output_type": "stream",
     "text": [
      "Collecting geopy\n",
      "  Downloading geopy-2.4.1-py3-none-any.whl.metadata (6.8 kB)\n",
      "Collecting geographiclib<3,>=1.52 (from geopy)\n",
      "  Downloading geographiclib-2.0-py3-none-any.whl.metadata (1.4 kB)\n",
      "Downloading geopy-2.4.1-py3-none-any.whl (125 kB)\n",
      "   ---------------------------------------- 0.0/125.4 kB ? eta -:--:--\n",
      "   ---------------------------------------- 0.0/125.4 kB ? eta -:--:--\n",
      "   --- ------------------------------------ 10.2/125.4 kB ? eta -:--:--\n",
      "   --- ------------------------------------ 10.2/125.4 kB ? eta -:--:--\n",
      "   ------------------------- ------------- 81.9/125.4 kB 770.8 kB/s eta 0:00:01\n",
      "   ---------------------------------------  122.9/125.4 kB 1.0 MB/s eta 0:00:01\n",
      "   -------------------------------------- 125.4/125.4 kB 738.4 kB/s eta 0:00:00\n",
      "Downloading geographiclib-2.0-py3-none-any.whl (40 kB)\n",
      "   ---------------------------------------- 0.0/40.3 kB ? eta -:--:--\n",
      "   ---------------------------------------- 40.3/40.3 kB 1.9 MB/s eta 0:00:00\n",
      "Installing collected packages: geographiclib, geopy\n",
      "Successfully installed geographiclib-2.0 geopy-2.4.1\n",
      "Note: you may need to restart the kernel to use updated packages.\n"
     ]
    }
   ],
   "source": [
    "%pip install geopy"
   ]
  },
  {
   "cell_type": "code",
   "execution_count": 36,
   "metadata": {},
   "outputs": [],
   "source": [
    "import folium\n",
    "import networkx as nx\n",
    "import geopy.distance\n",
    "from folium.plugins import MarkerCluster\n",
    "import matplotlib.pyplot as plt\n",
    "\n",
    "# Coordinates (No way to get the actual coordinates so I just used my intuition)\n",
    "locations = [\n",
    "    (-37.8136 , 144.9631),  # Melbourne\n",
    "    (-37.8136, 144.9631 - 0.018),  # 1.8km to the west of Melbourne\n",
    "    (-37.8136 + 0.015, 144.9631),  # 1.5km to the north of Melbourne\n",
    "    (-37.8136 - 0.013, 144.9631),  # 1.3km to the south of Melbourne\n",
    "    (-37.8136 - 0.013, 144.9631 + 0.030),  # 3.0km to the east of Southbank\n",
    "    (-37.8136 - 0.013 - 0.017, 144.9631 + 0.030),  # 1.7km to the south of last point\n",
    "    (-37.8136 - 0.013 - 0.028, 144.9631 + 0.030),  # 2.8km to the south of last point\n",
    "    (-37.8136 + 0.0114, 144.9631 + 0.0144),  # 1.8km to the northeast of Melbourne\n",
    "    (-37.8136 + 0.0114 + 0.0038, 144.9631 + 0.0144 + 0.0049),  # 0.6km to the northeast of last point\n",
    "    \n",
    "]\n",
    "\n",
    "# Create a Folium map centered around the first location\n",
    "m = folium.Map(location=locations[0], zoom_start=14)\n",
    "\n",
    "# Add a marker cluster\n",
    "marker_cluster = MarkerCluster().add_to(m)\n",
    "\n",
    "# Add points to the map\n",
    "for loc in locations:\n",
    "    # folium.Marker(location=loc).add_to(marker_cluster)\n",
    "\n",
    "    # Add edges connecting each point to another\n",
    "    G = nx.Graph()  # Initialize an empty graph object\n",
    "    for i in range(len(locations)):\n",
    "        for j in range(i+1, len(locations)):\n",
    "            G.add_edge(i, j)\n",
    "\n",
    "    # Get the positions of the nodes\n",
    "    pos = nx.spring_layout(G)\n",
    "\n",
    "    # Draw the edges on the map\n",
    "    for edge in G.edges():\n",
    "        start = locations[edge[0]]\n",
    "        end = locations[edge[1]]\n",
    "        folium.PolyLine([start, end], color='blue').add_to(m)\n",
    "    folium.Marker(location=loc).add_to(marker_cluster)\n",
    "\n",
    "    # Add edges connecting each point to another\n",
    "    for i in range(len(locations)):\n",
    "        for j in range(i+1, len(locations)):\n",
    "            G.add_edge(i, j)\n",
    "\n",
    "    # Get the positions of the nodes\n",
    "    pos = nx.spring_layout(G)\n",
    "\n",
    "    # Draw the edges on the map\n",
    "    for edge in G.edges():\n",
    "        start = locations[edge[0]]\n",
    "        end = locations[edge[1]]\n",
    "        folium.PolyLine([start, end], color='blue').add_to(m)\n",
    "        \n",
    "    # Calculate the distance per edge\n",
    "    for edge in G.edges():\n",
    "        start = locations[edge[0]]\n",
    "        end = locations[edge[1]]\n",
    "        distance = geopy.distance.distance(start, end).km\n",
    "        folium.PolyLine([start, end], color='blue', tooltip=f\"Distance: {distance} km\").add_to(m)\n",
    "\n",
    "# Display the map in the Jupyter notebook\n",
    "m\n",
    "\n",
    "# Save the map as an HTML file\n",
    "m.save('interactive_map.html')\n"
   ]
  },
  {
   "cell_type": "code",
   "execution_count": null,
   "metadata": {},
   "outputs": [],
   "source": []
  }
 ],
 "metadata": {
  "kernelspec": {
   "display_name": "roadcrashenv",
   "language": "python",
   "name": "python3"
  },
  "language_info": {
   "codemirror_mode": {
    "name": "ipython",
    "version": 3
   },
   "file_extension": ".py",
   "mimetype": "text/x-python",
   "name": "python",
   "nbconvert_exporter": "python",
   "pygments_lexer": "ipython3",
   "version": "3.8.19"
  }
 },
 "nbformat": 4,
 "nbformat_minor": 2
}
